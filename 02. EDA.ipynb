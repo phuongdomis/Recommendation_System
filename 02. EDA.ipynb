{
 "cells": [
  {
   "cell_type": "markdown",
   "id": "05a28061",
   "metadata": {},
   "source": [
    "# 2. Khám phá dữ liệu EDA"
   ]
  },
  {
   "cell_type": "code",
   "execution_count": 28,
   "id": "d0b5728f",
   "metadata": {},
   "outputs": [],
   "source": [
    "import numpy as np\n",
    "import pandas as pd\n",
    "import sqlite3 as sql\n",
    "import matplotlib.pyplot as plt\n",
    "import seaborn as sns"
   ]
  },
  {
   "cell_type": "code",
   "execution_count": 29,
   "id": "d9ed7df9",
   "metadata": {},
   "outputs": [],
   "source": [
    "# đọc dữ liệu\n",
    "products = pd.read_csv('Product_new.csv')\n",
    "reviews = pd.read_csv('Review_new.csv')"
   ]
  },
  {
   "cell_type": "markdown",
   "id": "d797705e",
   "metadata": {},
   "source": [
    "# 1. Product"
   ]
  },
  {
   "cell_type": "code",
   "execution_count": 30,
   "id": "ccbe1d73",
   "metadata": {},
   "outputs": [
    {
     "data": {
      "text/html": [
       "<div>\n",
       "<style scoped>\n",
       "    .dataframe tbody tr th:only-of-type {\n",
       "        vertical-align: middle;\n",
       "    }\n",
       "\n",
       "    .dataframe tbody tr th {\n",
       "        vertical-align: top;\n",
       "    }\n",
       "\n",
       "    .dataframe thead th {\n",
       "        text-align: right;\n",
       "    }\n",
       "</style>\n",
       "<table border=\"1\" class=\"dataframe\">\n",
       "  <thead>\n",
       "    <tr style=\"text-align: right;\">\n",
       "      <th></th>\n",
       "      <th>item_id</th>\n",
       "      <th>name</th>\n",
       "      <th>description</th>\n",
       "      <th>rating</th>\n",
       "      <th>price</th>\n",
       "      <th>list_price</th>\n",
       "      <th>brand</th>\n",
       "      <th>group</th>\n",
       "      <th>url</th>\n",
       "      <th>image</th>\n",
       "    </tr>\n",
       "  </thead>\n",
       "  <tbody>\n",
       "    <tr>\n",
       "      <th>0</th>\n",
       "      <td>48102821</td>\n",
       "      <td>Tai nghe Bluetooth Inpods 12 - Cảm biến vân ta...</td>\n",
       "      <td>THÔNG TIN CHI TIẾT\\nDung lượng pin 300\\nThời g...</td>\n",
       "      <td>4.00</td>\n",
       "      <td>77000</td>\n",
       "      <td>300000</td>\n",
       "      <td>OEM</td>\n",
       "      <td>Thiết Bị Số - Phụ Kiện Số/Thiết Bị Âm Thanh và...</td>\n",
       "      <td>https://tai-nghe-bluetooth-inpods-12-cam-bien-...</td>\n",
       "      <td>https://salt.tikicdn.com/cache/280x280/ts/prod...</td>\n",
       "    </tr>\n",
       "    <tr>\n",
       "      <th>1</th>\n",
       "      <td>52333193</td>\n",
       "      <td>Tai nghe bluetooth không dây F9 True wireless ...</td>\n",
       "      <td>THÔNG TIN CHI TIẾT\\nDung lượng pin 2000mah\\nTh...</td>\n",
       "      <td>4.50</td>\n",
       "      <td>132000</td>\n",
       "      <td>750000</td>\n",
       "      <td>OEM</td>\n",
       "      <td>Thiết Bị Số - Phụ Kiện Số/Thiết Bị Âm Thanh và...</td>\n",
       "      <td>https://tai-nghe-bluetooth-khong-day-f9-true-w...</td>\n",
       "      <td>https://salt.tikicdn.com/cache/280x280/ts/prod...</td>\n",
       "    </tr>\n",
       "  </tbody>\n",
       "</table>\n",
       "</div>"
      ],
      "text/plain": [
       "    item_id                                               name  \\\n",
       "0  48102821  Tai nghe Bluetooth Inpods 12 - Cảm biến vân ta...   \n",
       "1  52333193  Tai nghe bluetooth không dây F9 True wireless ...   \n",
       "\n",
       "                                         description  rating   price  \\\n",
       "0  THÔNG TIN CHI TIẾT\\nDung lượng pin 300\\nThời g...    4.00   77000   \n",
       "1  THÔNG TIN CHI TIẾT\\nDung lượng pin 2000mah\\nTh...    4.50  132000   \n",
       "\n",
       "   list_price brand                                              group  \\\n",
       "0      300000   OEM  Thiết Bị Số - Phụ Kiện Số/Thiết Bị Âm Thanh và...   \n",
       "1      750000   OEM  Thiết Bị Số - Phụ Kiện Số/Thiết Bị Âm Thanh và...   \n",
       "\n",
       "                                                 url  \\\n",
       "0  https://tai-nghe-bluetooth-inpods-12-cam-bien-...   \n",
       "1  https://tai-nghe-bluetooth-khong-day-f9-true-w...   \n",
       "\n",
       "                                               image  \n",
       "0  https://salt.tikicdn.com/cache/280x280/ts/prod...  \n",
       "1  https://salt.tikicdn.com/cache/280x280/ts/prod...  "
      ]
     },
     "execution_count": 30,
     "metadata": {},
     "output_type": "execute_result"
    }
   ],
   "source": [
    "products.head(2)"
   ]
  },
  {
   "cell_type": "code",
   "execution_count": 31,
   "id": "706310d7",
   "metadata": {},
   "outputs": [
    {
     "data": {
      "text/plain": [
       "(4373, 10)"
      ]
     },
     "execution_count": 31,
     "metadata": {},
     "output_type": "execute_result"
    }
   ],
   "source": [
    "products.shape"
   ]
  },
  {
   "cell_type": "code",
   "execution_count": 32,
   "id": "737c8360",
   "metadata": {},
   "outputs": [
    {
     "name": "stdout",
     "output_type": "stream",
     "text": [
      "<class 'pandas.core.frame.DataFrame'>\n",
      "RangeIndex: 4373 entries, 0 to 4372\n",
      "Data columns (total 10 columns):\n",
      " #   Column       Non-Null Count  Dtype  \n",
      "---  ------       --------------  -----  \n",
      " 0   item_id      4373 non-null   int64  \n",
      " 1   name         4373 non-null   object \n",
      " 2   description  4370 non-null   object \n",
      " 3   rating       4373 non-null   float64\n",
      " 4   price        4373 non-null   int64  \n",
      " 5   list_price   4373 non-null   int64  \n",
      " 6   brand        4373 non-null   object \n",
      " 7   group        4373 non-null   object \n",
      " 8   url          4373 non-null   object \n",
      " 9   image        4373 non-null   object \n",
      "dtypes: float64(1), int64(3), object(6)\n",
      "memory usage: 341.8+ KB\n"
     ]
    }
   ],
   "source": [
    "products.info()"
   ]
  },
  {
   "cell_type": "code",
   "execution_count": 33,
   "id": "bb6ea18a",
   "metadata": {},
   "outputs": [
    {
     "data": {
      "text/html": [
       "<div>\n",
       "<style scoped>\n",
       "    .dataframe tbody tr th:only-of-type {\n",
       "        vertical-align: middle;\n",
       "    }\n",
       "\n",
       "    .dataframe tbody tr th {\n",
       "        vertical-align: top;\n",
       "    }\n",
       "\n",
       "    .dataframe thead th {\n",
       "        text-align: right;\n",
       "    }\n",
       "</style>\n",
       "<table border=\"1\" class=\"dataframe\">\n",
       "  <thead>\n",
       "    <tr style=\"text-align: right;\">\n",
       "      <th></th>\n",
       "      <th>count</th>\n",
       "      <th>mean</th>\n",
       "      <th>std</th>\n",
       "      <th>min</th>\n",
       "      <th>25%</th>\n",
       "      <th>50%</th>\n",
       "      <th>75%</th>\n",
       "      <th>max</th>\n",
       "    </tr>\n",
       "  </thead>\n",
       "  <tbody>\n",
       "    <tr>\n",
       "      <th>price</th>\n",
       "      <td>4,373.00</td>\n",
       "      <td>2,763,501.13</td>\n",
       "      <td>5,544,076.83</td>\n",
       "      <td>7,000.00</td>\n",
       "      <td>150,000.00</td>\n",
       "      <td>487,000.00</td>\n",
       "      <td>2,680,000.00</td>\n",
       "      <td>62,690,000.00</td>\n",
       "    </tr>\n",
       "    <tr>\n",
       "      <th>list_price</th>\n",
       "      <td>4,373.00</td>\n",
       "      <td>3,893,684.92</td>\n",
       "      <td>7,900,791.25</td>\n",
       "      <td>12,000.00</td>\n",
       "      <td>279,000.00</td>\n",
       "      <td>790,000.00</td>\n",
       "      <td>3,590,000.00</td>\n",
       "      <td>82,990,000.00</td>\n",
       "    </tr>\n",
       "  </tbody>\n",
       "</table>\n",
       "</div>"
      ],
      "text/plain": [
       "              count         mean          std       min        25%        50%  \\\n",
       "price      4,373.00 2,763,501.13 5,544,076.83  7,000.00 150,000.00 487,000.00   \n",
       "list_price 4,373.00 3,893,684.92 7,900,791.25 12,000.00 279,000.00 790,000.00   \n",
       "\n",
       "                    75%           max  \n",
       "price      2,680,000.00 62,690,000.00  \n",
       "list_price 3,590,000.00 82,990,000.00  "
      ]
     },
     "execution_count": 33,
     "metadata": {},
     "output_type": "execute_result"
    }
   ],
   "source": [
    "pd.options.display.float_format = '{:,.2f}'.format\n",
    "products[['price', 'list_price']].describe().T"
   ]
  },
  {
   "cell_type": "markdown",
   "id": "ee073e00",
   "metadata": {},
   "source": [
    "### Nhận xét:\n",
    "- Giá sp có khoảng giá trị rất rộng trong khoảng 7000-62.690.000\n",
    "- Giá gốc sp có khoảng giá trị rất rộng trong khoảng 12.000-82.990.000"
   ]
  },
  {
   "cell_type": "markdown",
   "id": "e838cbee",
   "metadata": {},
   "source": [
    "# 1.1 Giá bán"
   ]
  },
  {
   "cell_type": "code",
   "execution_count": 34,
   "id": "31bbdbc3",
   "metadata": {},
   "outputs": [
    {
     "data": {
      "image/png": "[encoded data removed]",
      "text/plain": [
       "<Figure size 1080x576 with 2 Axes>"
      ]
     },
     "metadata": {
      "needs_background": "light"
     },
     "output_type": "display_data"
    }
   ],
   "source": [
    "fig, ax = plt.subplots(1, 2, figsize = (15, 8))\n",
    "products.price.plot(kind = 'box', ax = ax[0])\n",
    "products.price.plot(kind = 'hist', bins = 20, ax = ax[1])\n",
    "plt.show()"
   ]
  },
  {
   "cell_type": "markdown",
   "id": "9fda0c28",
   "metadata": {},
   "source": [
    "### Nhận xét:\n",
    "- Giá sp có khoảng giá trị rất rộng trong khoảng 7000-62.690.000\n",
    "- Phần lớn giá sp tập trung < 3.000.000"
   ]
  },
  {
   "cell_type": "markdown",
   "id": "89fcb314",
   "metadata": {},
   "source": [
    "## 1.2 Thương hiệu"
   ]
  },
  {
   "cell_type": "code",
   "execution_count": 35,
   "id": "adcc811f",
   "metadata": {},
   "outputs": [
    {
     "data": {
      "text/plain": [
       "brand\n",
       "OEM               1115\n",
       "Samsung            199\n",
       "LG                  96\n",
       "Panasonic           96\n",
       "Sony                95\n",
       "                  ... \n",
       "KTV                  1\n",
       "KBVISION-USA         1\n",
       "KAPUSI               1\n",
       "Joy Collection       1\n",
       "xMOWI                1\n",
       "Name: item_id, Length: 521, dtype: int64"
      ]
     },
     "execution_count": 35,
     "metadata": {},
     "output_type": "execute_result"
    }
   ],
   "source": [
    "# sp theo thương hiệu\n",
    "brands = products.groupby('brand')['item_id'].count().sort_values(ascending = False)\n",
    "brands"
   ]
  },
  {
   "cell_type": "code",
   "execution_count": 36,
   "id": "91e1cf61",
   "metadata": {},
   "outputs": [
    {
     "data": {
      "image/png": "[encoded data removed]",
      "text/plain": [
       "<Figure size 432x288 with 1 Axes>"
      ]
     },
     "metadata": {
      "needs_background": "light"
     },
     "output_type": "display_data"
    }
   ],
   "source": [
    "# thương hiệu có số lượng mã sp cao nhất: OEM\n",
    "# top 10 thương hiệu có số lượng mã sp cao nhất (ngoại trừ OEM)\n",
    "brands[1:11].plot(kind = 'bar')\n",
    "plt.ylabel('Count')\n",
    "plt.title('Product items by brand')\n",
    "plt.show()"
   ]
  },
  {
   "cell_type": "markdown",
   "id": "c0960866",
   "metadata": {},
   "source": [
    "### Nhận xét:\n",
    "- Ngoại trừ OEM có số lượng mã sp vượt trội (1115) thì trong top 10 có Samsung có số lượng mã sp nhiều nhất các thương hiệu khác có số lượng mã sp tương đương nhau."
   ]
  },
  {
   "cell_type": "code",
   "execution_count": 37,
   "id": "e3fcffeb",
   "metadata": {},
   "outputs": [
    {
     "data": {
      "image/png": "[encoded data removed]",
      "text/plain": [
       "<Figure size 432x288 with 1 Axes>"
      ]
     },
     "metadata": {
      "needs_background": "light"
     },
     "output_type": "display_data"
    }
   ],
   "source": [
    "# giá bán theo thương hiệu\n",
    "price_by_brand = products.groupby('brand').mean()['price']\n",
    "price_by_brand.sort_values(ascending = False)[:10].plot(kind = 'bar')\n",
    "plt.ylabel('Price')\n",
    "plt.title('Avg price by brand')\n",
    "plt.show()"
   ]
  },
  {
   "cell_type": "markdown",
   "id": "c0833c54",
   "metadata": {},
   "source": [
    "### Nhận xét:\n",
    "- Về giá bán thì thương hiệu Hitachi có trung bình giá bán sản phẩm cao nhất."
   ]
  },
  {
   "cell_type": "markdown",
   "id": "1c68f70a",
   "metadata": {},
   "source": [
    "## 1.3. Rating"
   ]
  },
  {
   "cell_type": "code",
   "execution_count": 38,
   "id": "994886e3",
   "metadata": {},
   "outputs": [
    {
     "data": {
      "image/png": "[encoded data removed]",
      "text/plain": [
       "<Figure size 360x360 with 1 Axes>"
      ]
     },
     "metadata": {
      "needs_background": "light"
     },
     "output_type": "display_data"
    }
   ],
   "source": [
    "sns.displot(products, x = 'rating', kind = 'hist')\n",
    "plt.show()"
   ]
  },
  {
   "cell_type": "markdown",
   "id": "4b20e88d",
   "metadata": {},
   "source": [
    "### Nhận xét:\n",
    "- Rating sp trong khoảng 0-5\n",
    "- Sp có rating là 0 và 5 là tương đương nhau và có số lượng khá lớn\n",
    "- Phần lớn sp có rating > 4."
   ]
  },
  {
   "cell_type": "code",
   "execution_count": 39,
   "id": "97856c39",
   "metadata": {},
   "outputs": [
    {
     "data": {
      "text/plain": [
       "rating\n",
       "0.00    790\n",
       "1.00     24\n",
       "1.30      2\n",
       "1.80      1\n",
       "2.00      7\n",
       "2.10      1\n",
       "2.20      2\n",
       "2.30      4\n",
       "2.50      7\n",
       "2.60      1\n",
       "2.70      6\n",
       "2.80      4\n",
       "3.00     52\n",
       "3.10      5\n",
       "3.20      9\n",
       "3.30     17\n",
       "3.40     15\n",
       "3.50     40\n",
       "3.60     23\n",
       "3.70     54\n",
       "3.80     61\n",
       "3.90     49\n",
       "4.00    204\n",
       "4.10     77\n",
       "4.20    125\n",
       "4.30    233\n",
       "4.40    191\n",
       "4.50    326\n",
       "4.60    361\n",
       "4.70    427\n",
       "4.80    442\n",
       "4.90    220\n",
       "5.00    593\n",
       "Name: item_id, dtype: int64"
      ]
     },
     "execution_count": 39,
     "metadata": {},
     "output_type": "execute_result"
    }
   ],
   "source": [
    "products.groupby('rating')['item_id'].count()"
   ]
  },
  {
   "cell_type": "markdown",
   "id": "c2c7aa42",
   "metadata": {},
   "source": [
    "Xem xét rating trong review của KH"
   ]
  },
  {
   "cell_type": "code",
   "execution_count": 40,
   "id": "e1621ca9",
   "metadata": {},
   "outputs": [
    {
     "data": {
      "text/html": [
       "<div>\n",
       "<style scoped>\n",
       "    .dataframe tbody tr th:only-of-type {\n",
       "        vertical-align: middle;\n",
       "    }\n",
       "\n",
       "    .dataframe tbody tr th {\n",
       "        vertical-align: top;\n",
       "    }\n",
       "\n",
       "    .dataframe thead th {\n",
       "        text-align: right;\n",
       "    }\n",
       "</style>\n",
       "<table border=\"1\" class=\"dataframe\">\n",
       "  <thead>\n",
       "    <tr style=\"text-align: right;\">\n",
       "      <th></th>\n",
       "      <th>product_id</th>\n",
       "      <th>avg_rating</th>\n",
       "    </tr>\n",
       "  </thead>\n",
       "  <tbody>\n",
       "    <tr>\n",
       "      <th>0</th>\n",
       "      <td>54665</td>\n",
       "      <td>4.60</td>\n",
       "    </tr>\n",
       "    <tr>\n",
       "      <th>1</th>\n",
       "      <td>55897</td>\n",
       "      <td>4.63</td>\n",
       "    </tr>\n",
       "    <tr>\n",
       "      <th>2</th>\n",
       "      <td>104180</td>\n",
       "      <td>4.48</td>\n",
       "    </tr>\n",
       "    <tr>\n",
       "      <th>3</th>\n",
       "      <td>116897</td>\n",
       "      <td>4.24</td>\n",
       "    </tr>\n",
       "    <tr>\n",
       "      <th>4</th>\n",
       "      <td>122012</td>\n",
       "      <td>4.49</td>\n",
       "    </tr>\n",
       "  </tbody>\n",
       "</table>\n",
       "</div>"
      ],
      "text/plain": [
       "   product_id  avg_rating\n",
       "0       54665        4.60\n",
       "1       55897        4.63\n",
       "2      104180        4.48\n",
       "3      116897        4.24\n",
       "4      122012        4.49"
      ]
     },
     "execution_count": 40,
     "metadata": {},
     "output_type": "execute_result"
    }
   ],
   "source": [
    "avg_rating_cus = reviews.groupby('product_id').mean()['rating'].to_frame().reset_index()\n",
    "avg_rating_cus.rename({'rating': 'avg_rating'}, axis = 1, inplace = True)\n",
    "avg_rating_cus.head()"
   ]
  },
  {
   "cell_type": "code",
   "execution_count": 41,
   "id": "fba1d2a4",
   "metadata": {},
   "outputs": [],
   "source": [
    "products = products.merge(avg_rating_cus, left_on = 'item_id', right_on = 'product_id', how = 'left')"
   ]
  },
  {
   "cell_type": "code",
   "execution_count": 42,
   "id": "8d2a0692",
   "metadata": {},
   "outputs": [
    {
     "data": {
      "image/png": "[encoded data removed]",
      "text/plain": [
       "<Figure size 360x360 with 1 Axes>"
      ]
     },
     "metadata": {
      "needs_background": "light"
     },
     "output_type": "display_data"
    },
    {
     "data": {
      "image/png": "[encoded data removed]",
      "text/plain": [
       "<Figure size 360x360 with 1 Axes>"
      ]
     },
     "metadata": {
      "needs_background": "light"
     },
     "output_type": "display_data"
    }
   ],
   "source": [
    "sns.displot(products, x = 'rating', kind = 'hist')\n",
    "sns.displot(products, x = 'avg_rating', kind = 'hist')\n",
    "plt.show()"
   ]
  },
  {
   "cell_type": "markdown",
   "id": "52f1f576",
   "metadata": {},
   "source": [
    "### Nhận xét:\n",
    "Rating của sp trong review của KH >0. Có thể kết luận điểm rating = 0 trong product là do thiếu dữ liệu."
   ]
  },
  {
   "cell_type": "markdown",
   "id": "0bcedec3",
   "metadata": {},
   "source": [
    "# 2. Review"
   ]
  },
  {
   "cell_type": "code",
   "execution_count": 43,
   "id": "2c7e421a",
   "metadata": {},
   "outputs": [
    {
     "data": {
      "text/html": [
       "<div>\n",
       "<style scoped>\n",
       "    .dataframe tbody tr th:only-of-type {\n",
       "        vertical-align: middle;\n",
       "    }\n",
       "\n",
       "    .dataframe tbody tr th {\n",
       "        vertical-align: top;\n",
       "    }\n",
       "\n",
       "    .dataframe thead th {\n",
       "        text-align: right;\n",
       "    }\n",
       "</style>\n",
       "<table border=\"1\" class=\"dataframe\">\n",
       "  <thead>\n",
       "    <tr style=\"text-align: right;\">\n",
       "      <th></th>\n",
       "      <th>id</th>\n",
       "      <th>customer_id</th>\n",
       "      <th>product_id</th>\n",
       "      <th>name</th>\n",
       "      <th>rating</th>\n",
       "      <th>title</th>\n",
       "      <th>content</th>\n",
       "    </tr>\n",
       "  </thead>\n",
       "  <tbody>\n",
       "    <tr>\n",
       "      <th>0</th>\n",
       "      <td>0</td>\n",
       "      <td>709310</td>\n",
       "      <td>10001012</td>\n",
       "      <td>Lân Nguyễn Hoàng</td>\n",
       "      <td>3</td>\n",
       "      <td>Ko dùng đc thẻ nhớ</td>\n",
       "      <td>Lúcđầu quên thông tin nên dùng 512gb thì ko đc...</td>\n",
       "    </tr>\n",
       "    <tr>\n",
       "      <th>1</th>\n",
       "      <td>1</td>\n",
       "      <td>10701688</td>\n",
       "      <td>10001012</td>\n",
       "      <td>Nguyễn Khánh Hòa</td>\n",
       "      <td>5</td>\n",
       "      <td>Cực kì hài lòng</td>\n",
       "      <td>Tiki giao hàng nhanh. Sản phẩm đúng như mô tả,...</td>\n",
       "    </tr>\n",
       "    <tr>\n",
       "      <th>2</th>\n",
       "      <td>2</td>\n",
       "      <td>11763074</td>\n",
       "      <td>10001012</td>\n",
       "      <td>Toàn Phạm Khánh</td>\n",
       "      <td>5</td>\n",
       "      <td>Cực kì hài lòng</td>\n",
       "      <td>chất lượng camera rõ nét, chống mưa nắng tuyệt...</td>\n",
       "    </tr>\n",
       "    <tr>\n",
       "      <th>3</th>\n",
       "      <td>3</td>\n",
       "      <td>9909549</td>\n",
       "      <td>10001012</td>\n",
       "      <td>Nguyen Quang Minh</td>\n",
       "      <td>5</td>\n",
       "      <td>Rất hài lòng</td>\n",
       "      <td>Hàng được đóng gói cẩn thận, giao hàng nhanh ,...</td>\n",
       "    </tr>\n",
       "    <tr>\n",
       "      <th>4</th>\n",
       "      <td>4</td>\n",
       "      <td>1827148</td>\n",
       "      <td>10001012</td>\n",
       "      <td>Phạm Bá Đức</td>\n",
       "      <td>5</td>\n",
       "      <td>Cực kì hài lòng</td>\n",
       "      <td>dễ cài đặt, chất lượng tốt, chế độ xem hồng ng...</td>\n",
       "    </tr>\n",
       "  </tbody>\n",
       "</table>\n",
       "</div>"
      ],
      "text/plain": [
       "   id  customer_id  product_id               name  rating               title  \\\n",
       "0   0       709310    10001012   Lân Nguyễn Hoàng       3  Ko dùng đc thẻ nhớ   \n",
       "1   1     10701688    10001012   Nguyễn Khánh Hòa       5     Cực kì hài lòng   \n",
       "2   2     11763074    10001012    Toàn Phạm Khánh       5     Cực kì hài lòng   \n",
       "3   3      9909549    10001012  Nguyen Quang Minh       5        Rất hài lòng   \n",
       "4   4      1827148    10001012        Phạm Bá Đức       5     Cực kì hài lòng   \n",
       "\n",
       "                                             content  \n",
       "0  Lúcđầu quên thông tin nên dùng 512gb thì ko đc...  \n",
       "1  Tiki giao hàng nhanh. Sản phẩm đúng như mô tả,...  \n",
       "2  chất lượng camera rõ nét, chống mưa nắng tuyệt...  \n",
       "3  Hàng được đóng gói cẩn thận, giao hàng nhanh ,...  \n",
       "4  dễ cài đặt, chất lượng tốt, chế độ xem hồng ng...  "
      ]
     },
     "execution_count": 43,
     "metadata": {},
     "output_type": "execute_result"
    }
   ],
   "source": [
    "reviews.head()"
   ]
  },
  {
   "cell_type": "code",
   "execution_count": 44,
   "id": "b924ba58",
   "metadata": {},
   "outputs": [
    {
     "data": {
      "text/plain": [
       "(361090, 7)"
      ]
     },
     "execution_count": 44,
     "metadata": {},
     "output_type": "execute_result"
    }
   ],
   "source": [
    "reviews.shape"
   ]
  },
  {
   "cell_type": "code",
   "execution_count": 45,
   "id": "48633f33",
   "metadata": {},
   "outputs": [
    {
     "name": "stdout",
     "output_type": "stream",
     "text": [
      "<class 'pandas.core.frame.DataFrame'>\n",
      "RangeIndex: 361090 entries, 0 to 361089\n",
      "Data columns (total 7 columns):\n",
      " #   Column       Non-Null Count   Dtype \n",
      "---  ------       --------------   ----- \n",
      " 0   id           361090 non-null  int64 \n",
      " 1   customer_id  361090 non-null  int64 \n",
      " 2   product_id   361090 non-null  int64 \n",
      " 3   name         360662 non-null  object\n",
      " 4   rating       361090 non-null  int64 \n",
      " 5   title        361062 non-null  object\n",
      " 6   content      165053 non-null  object\n",
      "dtypes: int64(4), object(3)\n",
      "memory usage: 19.3+ MB\n"
     ]
    }
   ],
   "source": [
    "reviews.info()"
   ]
  },
  {
   "cell_type": "code",
   "execution_count": 46,
   "id": "49ae4979",
   "metadata": {},
   "outputs": [
    {
     "name": "stdout",
     "output_type": "stream",
     "text": [
      "Có  361090  đánh giá cho  4214  sản phẩm.\n"
     ]
    }
   ],
   "source": [
    "print('Có ', reviews.shape[0], ' đánh giá cho ', reviews.groupby('product_id').count().shape[0], ' sản phẩm.')"
   ]
  },
  {
   "cell_type": "code",
   "execution_count": 47,
   "id": "44dc0a57",
   "metadata": {},
   "outputs": [
    {
     "data": {
      "image/png": "[encoded data removed]",
      "text/plain": [
       "<Figure size 360x360 with 1 Axes>"
      ]
     },
     "metadata": {
      "needs_background": "light"
     },
     "output_type": "display_data"
    }
   ],
   "source": [
    "sns.displot(reviews, x = 'rating', kind = 'kde')\n",
    "plt.show()"
   ]
  },
  {
   "cell_type": "markdown",
   "id": "bd9f2955",
   "metadata": {},
   "source": [
    "### Nhận xét:\n",
    "- Phần lớn KH phản hồi tích cực về sp\n",
    "- Nguyên nhân: SP có chất lượng tốt hoặc do KH dễ tính??"
   ]
  },
  {
   "cell_type": "code",
   "execution_count": 48,
   "id": "57af9365",
   "metadata": {},
   "outputs": [
    {
     "data": {
      "text/plain": [
       "rating\n",
       "1     16616\n",
       "2      7098\n",
       "3     20600\n",
       "4     60565\n",
       "5    256211\n",
       "dtype: int64"
      ]
     },
     "execution_count": 48,
     "metadata": {},
     "output_type": "execute_result"
    }
   ],
   "source": [
    "reviews.groupby('rating').size()"
   ]
  },
  {
   "cell_type": "markdown",
   "id": "8d757f2f",
   "metadata": {},
   "source": [
    "### Nhận xét:\n",
    "- Phần lớn đánh giá cho rating 5"
   ]
  },
  {
   "cell_type": "markdown",
   "id": "522ea3fb",
   "metadata": {},
   "source": [
    "## 2.1. Top 20 sp được đánh giá nhiều nhất"
   ]
  },
  {
   "cell_type": "code",
   "execution_count": 49,
   "id": "e6449a0b",
   "metadata": {},
   "outputs": [
    {
     "data": {
      "image/png": "[encoded data removed]",
      "text/plain": [
       "<Figure size 864x432 with 1 Axes>"
      ]
     },
     "metadata": {
      "needs_background": "light"
     },
     "output_type": "display_data"
    }
   ],
   "source": [
    "plt.figure(figsize = (12, 6))\n",
    "top_products = reviews.groupby('product_id').count()['customer_id'].sort_values(ascending = False)[:20]\n",
    "top_products.index = products[products.item_id.isin(top_products.index)]['name'].str[:25]\n",
    "top_products.plot(kind = 'bar')\n",
    "plt.show()"
   ]
  },
  {
   "cell_type": "markdown",
   "id": "5df782a7",
   "metadata": {},
   "source": [
    "### Nhận xét:\n",
    "- Các sp được đánh giá nhiều nhất là phụ kiện điện thoại, máy tính\n",
    "- Chuột không dây Logitech được đánh giá nhiều nhất."
   ]
  },
  {
   "cell_type": "markdown",
   "id": "7580dcaf",
   "metadata": {},
   "source": [
    "## 2.2. Top 20 KH thực hiện đánh giá nhiều nhất"
   ]
  },
  {
   "cell_type": "code",
   "execution_count": 50,
   "id": "ba62f99d",
   "metadata": {},
   "outputs": [
    {
     "data": {
      "image/png": "[encoded data removed]",
      "text/plain": [
       "<Figure size 864x432 with 1 Axes>"
      ]
     },
     "metadata": {
      "needs_background": "light"
     },
     "output_type": "display_data"
    }
   ],
   "source": [
    "plt.figure(figsize = (12, 6))\n",
    "top_rating_customers = reviews.groupby('customer_id').count()['product_id'].sort_values(ascending = False)[:20]\n",
    "plt.bar(x = [str(x) for x in top_rating_customers.index], height = top_rating_customers.values)\n",
    "plt.xticks(rotation = 70)\n",
    "plt.show()"
   ]
  },
  {
   "cell_type": "markdown",
   "id": "d6cc9f8d",
   "metadata": {},
   "source": [
    "## Nhận xét:\n",
    "- KH có mã số 7737978 thực hiện nhiều đánh giá nhất (cho 50 sp)\n",
    "- Top 20 chủ yếu thực hiện đánh giá cho khoảng 30-40 sp."
   ]
  },
  {
   "cell_type": "code",
   "execution_count": 51,
   "id": "eedc1c11",
   "metadata": {},
   "outputs": [
    {
     "data": {
      "text/html": [
       "<div>\n",
       "<style scoped>\n",
       "    .dataframe tbody tr th:only-of-type {\n",
       "        vertical-align: middle;\n",
       "    }\n",
       "\n",
       "    .dataframe tbody tr th {\n",
       "        vertical-align: top;\n",
       "    }\n",
       "\n",
       "    .dataframe thead th {\n",
       "        text-align: right;\n",
       "    }\n",
       "</style>\n",
       "<table border=\"1\" class=\"dataframe\">\n",
       "  <thead>\n",
       "    <tr style=\"text-align: right;\">\n",
       "      <th></th>\n",
       "      <th>item_id</th>\n",
       "      <th>name</th>\n",
       "      <th>description</th>\n",
       "      <th>rating</th>\n",
       "      <th>price</th>\n",
       "      <th>list_price</th>\n",
       "      <th>brand</th>\n",
       "      <th>group</th>\n",
       "      <th>url</th>\n",
       "      <th>image</th>\n",
       "      <th>product_id</th>\n",
       "      <th>avg_rating</th>\n",
       "    </tr>\n",
       "  </thead>\n",
       "  <tbody>\n",
       "    <tr>\n",
       "      <th>0</th>\n",
       "      <td>48102821</td>\n",
       "      <td>Tai nghe Bluetooth Inpods 12 - Cảm biến vân ta...</td>\n",
       "      <td>THÔNG TIN CHI TIẾT\\nDung lượng pin 300\\nThời g...</td>\n",
       "      <td>4.00</td>\n",
       "      <td>77000</td>\n",
       "      <td>300000</td>\n",
       "      <td>OEM</td>\n",
       "      <td>Thiết Bị Số - Phụ Kiện Số/Thiết Bị Âm Thanh và...</td>\n",
       "      <td>https://tai-nghe-bluetooth-inpods-12-cam-bien-...</td>\n",
       "      <td>https://salt.tikicdn.com/cache/280x280/ts/prod...</td>\n",
       "      <td>48,102,821.00</td>\n",
       "      <td>4.05</td>\n",
       "    </tr>\n",
       "    <tr>\n",
       "      <th>1</th>\n",
       "      <td>52333193</td>\n",
       "      <td>Tai nghe bluetooth không dây F9 True wireless ...</td>\n",
       "      <td>THÔNG TIN CHI TIẾT\\nDung lượng pin 2000mah\\nTh...</td>\n",
       "      <td>4.50</td>\n",
       "      <td>132000</td>\n",
       "      <td>750000</td>\n",
       "      <td>OEM</td>\n",
       "      <td>Thiết Bị Số - Phụ Kiện Số/Thiết Bị Âm Thanh và...</td>\n",
       "      <td>https://tai-nghe-bluetooth-khong-day-f9-true-w...</td>\n",
       "      <td>https://salt.tikicdn.com/cache/280x280/ts/prod...</td>\n",
       "      <td>52,333,193.00</td>\n",
       "      <td>4.50</td>\n",
       "    </tr>\n",
       "  </tbody>\n",
       "</table>\n",
       "</div>"
      ],
      "text/plain": [
       "    item_id                                               name  \\\n",
       "0  48102821  Tai nghe Bluetooth Inpods 12 - Cảm biến vân ta...   \n",
       "1  52333193  Tai nghe bluetooth không dây F9 True wireless ...   \n",
       "\n",
       "                                         description  rating   price  \\\n",
       "0  THÔNG TIN CHI TIẾT\\nDung lượng pin 300\\nThời g...    4.00   77000   \n",
       "1  THÔNG TIN CHI TIẾT\\nDung lượng pin 2000mah\\nTh...    4.50  132000   \n",
       "\n",
       "   list_price brand                                              group  \\\n",
       "0      300000   OEM  Thiết Bị Số - Phụ Kiện Số/Thiết Bị Âm Thanh và...   \n",
       "1      750000   OEM  Thiết Bị Số - Phụ Kiện Số/Thiết Bị Âm Thanh và...   \n",
       "\n",
       "                                                 url  \\\n",
       "0  https://tai-nghe-bluetooth-inpods-12-cam-bien-...   \n",
       "1  https://tai-nghe-bluetooth-khong-day-f9-true-w...   \n",
       "\n",
       "                                               image    product_id  avg_rating  \n",
       "0  https://salt.tikicdn.com/cache/280x280/ts/prod... 48,102,821.00        4.05  \n",
       "1  https://salt.tikicdn.com/cache/280x280/ts/prod... 52,333,193.00        4.50  "
      ]
     },
     "execution_count": 51,
     "metadata": {},
     "output_type": "execute_result"
    }
   ],
   "source": [
    "products.head(2)"
   ]
  },
  {
   "cell_type": "code",
   "execution_count": 52,
   "id": "42022e39",
   "metadata": {},
   "outputs": [
    {
     "data": {
      "text/html": [
       "<div>\n",
       "<style scoped>\n",
       "    .dataframe tbody tr th:only-of-type {\n",
       "        vertical-align: middle;\n",
       "    }\n",
       "\n",
       "    .dataframe tbody tr th {\n",
       "        vertical-align: top;\n",
       "    }\n",
       "\n",
       "    .dataframe thead th {\n",
       "        text-align: right;\n",
       "    }\n",
       "</style>\n",
       "<table border=\"1\" class=\"dataframe\">\n",
       "  <thead>\n",
       "    <tr style=\"text-align: right;\">\n",
       "      <th></th>\n",
       "      <th>id</th>\n",
       "      <th>customer_id</th>\n",
       "      <th>product_id</th>\n",
       "      <th>name</th>\n",
       "      <th>rating</th>\n",
       "      <th>title</th>\n",
       "      <th>content</th>\n",
       "    </tr>\n",
       "  </thead>\n",
       "  <tbody>\n",
       "    <tr>\n",
       "      <th>0</th>\n",
       "      <td>0</td>\n",
       "      <td>709310</td>\n",
       "      <td>10001012</td>\n",
       "      <td>Lân Nguyễn Hoàng</td>\n",
       "      <td>3</td>\n",
       "      <td>Ko dùng đc thẻ nhớ</td>\n",
       "      <td>Lúcđầu quên thông tin nên dùng 512gb thì ko đc...</td>\n",
       "    </tr>\n",
       "    <tr>\n",
       "      <th>1</th>\n",
       "      <td>1</td>\n",
       "      <td>10701688</td>\n",
       "      <td>10001012</td>\n",
       "      <td>Nguyễn Khánh Hòa</td>\n",
       "      <td>5</td>\n",
       "      <td>Cực kì hài lòng</td>\n",
       "      <td>Tiki giao hàng nhanh. Sản phẩm đúng như mô tả,...</td>\n",
       "    </tr>\n",
       "  </tbody>\n",
       "</table>\n",
       "</div>"
      ],
      "text/plain": [
       "   id  customer_id  product_id              name  rating               title  \\\n",
       "0   0       709310    10001012  Lân Nguyễn Hoàng       3  Ko dùng đc thẻ nhớ   \n",
       "1   1     10701688    10001012  Nguyễn Khánh Hòa       5     Cực kì hài lòng   \n",
       "\n",
       "                                             content  \n",
       "0  Lúcđầu quên thông tin nên dùng 512gb thì ko đc...  \n",
       "1  Tiki giao hàng nhanh. Sản phẩm đúng như mô tả,...  "
      ]
     },
     "execution_count": 52,
     "metadata": {},
     "output_type": "execute_result"
    }
   ],
   "source": [
    "reviews.head(2)"
   ]
  },
  {
   "cell_type": "code",
   "execution_count": 53,
   "id": "54529403",
   "metadata": {},
   "outputs": [],
   "source": [
    "# Lựa chọn thuộc tính cần thiết cho bài toán:\n",
    "products = products[['item_id', 'name', 'description']]\n",
    "reviews = reviews[['id', 'customer_id', 'product_id', 'rating']]"
   ]
  },
  {
   "cell_type": "code",
   "execution_count": 54,
   "id": "9758d358",
   "metadata": {},
   "outputs": [],
   "source": [
    "reviews.to_csv('Reviews.csv')\n",
    "products.to_csv('Products.csv', index = False)"
   ]
  },
  {
   "cell_type": "code",
   "execution_count": null,
   "id": "f3bf7e22",
   "metadata": {},
   "outputs": [],
   "source": []
  }
 ],
 "metadata": {
  "kernelspec": {
   "display_name": "Python 3",
   "language": "python",
   "name": "python3"
  },
  "language_info": {
   "codemirror_mode": {
    "name": "ipython",
    "version": 3
   },
   "file_extension": ".py",
   "mimetype": "text/x-python",
   "name": "python",
   "nbconvert_exporter": "python",
   "pygments_lexer": "ipython3",
   "version": "3.9.4"
  }
 },
 "nbformat": 4,
 "nbformat_minor": 5
}
